{
 "cells": [
  {
   "cell_type": "code",
   "execution_count": 36,
   "metadata": {},
   "outputs": [],
   "source": [
    "from twisted.internet import asyncioreactor\n",
    "asyncioreactor.install()"
   ]
  },
  {
   "cell_type": "code",
   "execution_count": 2,
   "metadata": {},
   "outputs": [],
   "source": [
    "import os"
   ]
  },
  {
   "cell_type": "code",
   "execution_count": 7,
   "metadata": {},
   "outputs": [],
   "source": [
    "import httpx"
   ]
  },
  {
   "cell_type": "code",
   "execution_count": 22,
   "metadata": {},
   "outputs": [],
   "source": [
    "import attr"
   ]
  },
  {
   "cell_type": "code",
   "execution_count": 28,
   "metadata": {},
   "outputs": [],
   "source": [
    "import ipywidgets"
   ]
  },
  {
   "cell_type": "code",
   "execution_count": 38,
   "metadata": {},
   "outputs": [],
   "source": [
    "import dateutil"
   ]
  },
  {
   "cell_type": "code",
   "execution_count": 45,
   "metadata": {},
   "outputs": [],
   "source": [
    "from dateutil import parser, tz"
   ]
  },
  {
   "cell_type": "code",
   "execution_count": 42,
   "metadata": {},
   "outputs": [],
   "source": [
    "import datetime"
   ]
  },
  {
   "cell_type": "code",
   "execution_count": 53,
   "metadata": {},
   "outputs": [],
   "source": [
    "from twisted.internet import reactor, task"
   ]
  },
  {
   "cell_type": "code",
   "execution_count": 60,
   "metadata": {},
   "outputs": [],
   "source": [
    "import functools"
   ]
  },
  {
   "cell_type": "code",
   "execution_count": 23,
   "metadata": {},
   "outputs": [],
   "source": [
    "@attr.s(auto_attribs=True, frozen=True)\n",
    "class Project:\n",
    "    name: str\n",
    "    pid: int\n",
    "        \n",
    "    @classmethod\n",
    "    def from_api(cls, entry):\n",
    "        return cls(name=entry[\"name\"], pid=entry[\"id\"])"
   ]
  },
  {
   "cell_type": "code",
   "execution_count": 5,
   "metadata": {},
   "outputs": [],
   "source": [
    "with open(os.path.expanduser(\"~/.toggl-token\")) as fpin:\n",
    "    token = fpin.read().strip()"
   ]
  },
  {
   "cell_type": "code",
   "execution_count": 8,
   "metadata": {},
   "outputs": [],
   "source": [
    "client = httpx.Client(auth=(token, \"api_token\"))"
   ]
  },
  {
   "cell_type": "code",
   "execution_count": 51,
   "metadata": {},
   "outputs": [],
   "source": [
    "def get_current(client, now):\n",
    "    res = client.get(\"https://api.track.toggl.com/api/v8/time_entries/current\")\n",
    "    data = res.json()[\"data\"]\n",
    "    description = data[\"description\"]\n",
    "    since = parser.isoparse(data[\"start\"])\n",
    "    duration = now - since\n",
    "    minutes, seconds = divmod(duration, datetime.timedelta(minutes=1))\n",
    "    seconds = int(seconds.total_seconds())\n",
    "    return description, minutes, seconds"
   ]
  },
  {
   "cell_type": "code",
   "execution_count": 16,
   "metadata": {},
   "outputs": [],
   "source": [
    "res = client.get(\"https://api.track.toggl.com/api/v8/workspaces\")\n",
    "[workspace] = res.json()\n",
    "workspace_id = workspace[\"id\"]"
   ]
  },
  {
   "cell_type": "code",
   "execution_count": 18,
   "metadata": {},
   "outputs": [],
   "source": [
    "res = client.get(f\"https://api.track.toggl.com/api/v8/workspaces/{workspace_id}/projects\")"
   ]
  },
  {
   "cell_type": "code",
   "execution_count": 24,
   "metadata": {},
   "outputs": [],
   "source": [
    "projects = list(map(Project.from_api, res.json()))"
   ]
  },
  {
   "cell_type": "code",
   "execution_count": 52,
   "metadata": {},
   "outputs": [
    {
     "data": {
      "application/vnd.jupyter.widget-view+json": {
       "model_id": "a65a32e7cf8242d3ba50e725e223484a",
       "version_major": 2,
       "version_minor": 0
      },
      "text/plain": [
       "Label(value='')"
      ]
     },
     "metadata": {},
     "output_type": "display_data"
    }
   ],
   "source": [
    "current = ipywidgets.Label(\"\")\n",
    "current"
   ]
  },
  {
   "cell_type": "code",
   "execution_count": 64,
   "metadata": {},
   "outputs": [],
   "source": [
    "def update(label, client, get_now):\n",
    "    description, minutes, seconds = get_current(client, get_now())\n",
    "    label.value = f\"{description} {minutes}:{seconds:02d}\""
   ]
  },
  {
   "cell_type": "code",
   "execution_count": 64,
   "metadata": {},
   "outputs": [],
   "source": [
    "update(current, client, functools.partial(datetime.datetime.now, tz.UTC))"
   ]
  },
  {
   "cell_type": "code",
   "execution_count": 30,
   "metadata": {},
   "outputs": [
    {
     "data": {
      "application/vnd.jupyter.widget-view+json": {
       "model_id": "1afca68319f44aadb5f8ebcc1189fddd",
       "version_major": 2,
       "version_minor": 0
      },
      "text/plain": [
       "Combobox(value='', description='Project', ensure_option=True, options=('Entertainment', 'Health', 'Household',…"
      ]
     },
     "metadata": {},
     "output_type": "display_data"
    }
   ],
   "source": [
    "project_selection=ipywidgets.Combobox(\n",
    "    options=[project.name for project in projects],\n",
    "    description='Project',\n",
    "    ensure_option=True,\n",
    "    disabled=False\n",
    ")\n",
    "description = "
   ]
  },
  {
   "cell_type": "code",
   "execution_count": null,
   "metadata": {},
   "outputs": [],
   "source": []
  }
 ],
 "metadata": {
  "kernelspec": {
   "display_name": "quick-toggl",
   "language": "python",
   "name": "quick-toggl-venv"
  },
  "language_info": {
   "codemirror_mode": {
    "name": "ipython",
    "version": 3
   },
   "file_extension": ".py",
   "mimetype": "text/x-python",
   "name": "python",
   "nbconvert_exporter": "python",
   "pygments_lexer": "ipython3",
   "version": "3.9.0"
  }
 },
 "nbformat": 4,
 "nbformat_minor": 4
}
