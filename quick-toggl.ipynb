{
 "cells": [
  {
   "cell_type": "code",
   "execution_count": 60,
   "metadata": {
    "jupyter": {
     "source_hidden": true
    }
   },
   "outputs": [],
   "source": [
    "from twisted.internet import asyncioreactor\n",
    "asyncioreactor.install()\n",
    "\n",
    "from twisted.python import log\n",
    "\n",
    "import os\n",
    "\n",
    "import httpx\n",
    "\n",
    "import attr\n",
    "\n",
    "import ipywidgets\n",
    "\n",
    "import dateutil\n",
    "\n",
    "from dateutil import parser, tz\n",
    "\n",
    "import datetime\n",
    "\n",
    "from twisted.internet import reactor, task\n",
    "\n",
    "import functools"
   ]
  },
  {
   "cell_type": "code",
   "execution_count": 23,
   "metadata": {
    "jupyter": {
     "source_hidden": true
    }
   },
   "outputs": [],
   "source": [
    "@attr.s(auto_attribs=True, frozen=True)\n",
    "class Project:\n",
    "    name: str\n",
    "    pid: int\n",
    "        \n",
    "    @classmethod\n",
    "    def from_api(cls, entry):\n",
    "        return cls(name=entry[\"name\"], pid=entry[\"id\"])"
   ]
  },
  {
   "cell_type": "code",
   "execution_count": 5,
   "metadata": {
    "jupyter": {
     "source_hidden": true
    }
   },
   "outputs": [],
   "source": [
    "with open(os.path.expanduser(\"~/.toggl-token\")) as fpin:\n",
    "    token = fpin.read().strip()"
   ]
  },
  {
   "cell_type": "code",
   "execution_count": 8,
   "metadata": {
    "jupyter": {
     "source_hidden": true
    }
   },
   "outputs": [],
   "source": [
    "client = httpx.Client(auth=(token, \"api_token\"))"
   ]
  },
  {
   "cell_type": "code",
   "execution_count": 51,
   "metadata": {
    "jupyter": {
     "source_hidden": true
    }
   },
   "outputs": [],
   "source": [
    "def get_current(client, now):\n",
    "    res = client.get(\"https://api.track.toggl.com/api/v8/time_entries/current\")\n",
    "    data = res.json()[\"data\"]\n",
    "    description = data[\"description\"]\n",
    "    since = parser.isoparse(data[\"start\"])\n",
    "    duration = now - since\n",
    "    minutes, seconds = divmod(duration, datetime.timedelta(minutes=1))\n",
    "    seconds = int(seconds.total_seconds())\n",
    "    return description, minutes, seconds"
   ]
  },
  {
   "cell_type": "code",
   "execution_count": 64,
   "metadata": {
    "jupyter": {
     "source_hidden": true
    }
   },
   "outputs": [],
   "source": [
    "def update(label, client, get_now):\n",
    "    description, minutes, seconds = get_current(client, get_now())\n",
    "    label.value = f\"{description} {minutes}:{seconds:02d}\""
   ]
  },
  {
   "cell_type": "code",
   "execution_count": 16,
   "metadata": {
    "jupyter": {
     "source_hidden": true
    }
   },
   "outputs": [],
   "source": [
    "res = client.get(\"https://api.track.toggl.com/api/v8/workspaces\")\n",
    "[workspace] = res.json()\n",
    "workspace_id = workspace[\"id\"]"
   ]
  },
  {
   "cell_type": "code",
   "execution_count": 18,
   "metadata": {
    "jupyter": {
     "source_hidden": true
    }
   },
   "outputs": [],
   "source": [
    "res = client.get(f\"https://api.track.toggl.com/api/v8/workspaces/{workspace_id}/projects\")"
   ]
  },
  {
   "cell_type": "code",
   "execution_count": 24,
   "metadata": {
    "jupyter": {
     "source_hidden": true
    }
   },
   "outputs": [],
   "source": [
    "projects = list(map(Project.from_api, res.json()))"
   ]
  },
  {
   "cell_type": "code",
   "execution_count": 52,
   "metadata": {
    "jupyter": {
     "source_hidden": true
    }
   },
   "outputs": [],
   "source": [
    "current = ipywidgets.Label(\"\")"
   ]
  },
  {
   "cell_type": "code",
   "execution_count": 66,
   "metadata": {
    "collapsed": true,
    "jupyter": {
     "outputs_hidden": true,
     "source_hidden": true
    }
   },
   "outputs": [
    {
     "data": {
      "text/plain": [
       "<Deferred at 0x7f162ef365e0>"
      ]
     },
     "execution_count": 66,
     "metadata": {},
     "output_type": "execute_result"
    }
   ],
   "source": [
    "updater = task.LoopingCall(update, current, client, functools.partial(datetime.datetime.now, tz.UTC))\n",
    "failed = updater.start(5)\n",
    "failed.addErrback(log.err)"
   ]
  },
  {
   "cell_type": "code",
   "execution_count": 67,
   "metadata": {
    "jupyter": {
     "source_hidden": true
    }
   },
   "outputs": [],
   "source": [
    "project_selection=ipywidgets.Combobox(\n",
    "    options=[project.name for project in projects],\n",
    "    description='Project',\n",
    "    ensure_option=True,\n",
    "    disabled=False\n",
    ")"
   ]
  },
  {
   "cell_type": "code",
   "execution_count": 69,
   "metadata": {
    "jupyter": {
     "source_hidden": true
    }
   },
   "outputs": [],
   "source": [
    "description = ipywidgets.Text()"
   ]
  },
  {
   "cell_type": "code",
   "execution_count": 86,
   "metadata": {
    "jupyter": {
     "source_hidden": true
    }
   },
   "outputs": [],
   "source": [
    "def new_task(_ignored):\n",
    "    for project in projects:\n",
    "        if project.name == project_selection.value:\n",
    "            pid = project.pid\n",
    "    data = dict(time_entry=dict(\n",
    "        description=description.value,\n",
    "        pid=pid,\n",
    "        created_with=\"Jupyter toggler\"\n",
    "    ))\n",
    "    res = client.post(\"https://api.track.toggl.com/api/v8/time_entries/start\", json=data)"
   ]
  },
  {
   "cell_type": "code",
   "execution_count": 87,
   "metadata": {
    "jupyter": {
     "source_hidden": true
    }
   },
   "outputs": [],
   "source": [
    "start = ipywidgets.Button(description=\"start\")\n",
    "start.on_click(new_task)"
   ]
  },
  {
   "cell_type": "code",
   "execution_count": 88,
   "metadata": {},
   "outputs": [
    {
     "data": {
      "application/vnd.jupyter.widget-view+json": {
       "model_id": "d2cbcccc84f2449c8df7fb9736a255d3",
       "version_major": 2,
       "version_minor": 0
      },
      "text/plain": [
       "VBox(children=(Label(value='testing the toggle stuff 0:47'), Text(value='testing the toggle stuff'), Combobox(…"
      ]
     },
     "metadata": {},
     "output_type": "display_data"
    }
   ],
   "source": [
    "box = ipywidgets.VBox(\n",
    "    children=[current, description, project_selection, start]\n",
    ")\n",
    "box"
   ]
  },
  {
   "cell_type": "code",
   "execution_count": null,
   "metadata": {},
   "outputs": [],
   "source": []
  }
 ],
 "metadata": {
  "kernelspec": {
   "display_name": "quick-toggl",
   "language": "python",
   "name": "quick-toggl-venv"
  },
  "language_info": {
   "codemirror_mode": {
    "name": "ipython",
    "version": 3
   },
   "file_extension": ".py",
   "mimetype": "text/x-python",
   "name": "python",
   "nbconvert_exporter": "python",
   "pygments_lexer": "ipython3",
   "version": "3.9.0"
  }
 },
 "nbformat": 4,
 "nbformat_minor": 4
}
